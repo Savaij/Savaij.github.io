{
 "cells": [
  {
   "cell_type": "code",
   "execution_count": 1,
   "id": "1bedeedd",
   "metadata": {},
   "outputs": [],
   "source": [
    "import pandas as pd\n",
    "import numpy as np\n",
    "import re\n",
    "import json"
   ]
  },
  {
   "cell_type": "code",
   "execution_count": 2,
   "id": "c90cafed",
   "metadata": {},
   "outputs": [],
   "source": [
    "df = pd.read_csv('http://dati.ustat.miur.it/dataset/3dd9ca7f-9cc9-4a1a-915c-e569b181dbd5/resource/b270ef1a-c219-48b1-8399-b1458e225d39/download/14_iscrittixresidenzasedecorsogruppo.csv', delimiter=';')\n",
    "\n",
    "decoder = pd.read_csv('http://dati.ustat.miur.it/dataset/3dd9ca7f-9cc9-4a1a-915c-e569b181dbd5/resource/eae4ee94-0797-41d2-b007-bc6dad3ef3e2/download/07_iscrittixresidenza.csv', delimiter=';')\n",
    "\n",
    "with open('decoders.json','r') as file:\n",
    "    decoders = json.load(file)\n",
    "\n",
    "cod_prov = decoders[0]\n",
    "prov_cod = decoders[1]\n",
    "\n",
    "df = df[df['AnnoA']=='2021/2022']\n",
    "\n",
    "df['ResidenzaCOD'] = df['ResidenzaR'].apply(lambda x: prov_cod[x])"
   ]
  },
  {
   "cell_type": "code",
   "execution_count": 3,
   "id": "b99c666b",
   "metadata": {},
   "outputs": [],
   "source": [
    "with open('cod_confini.json','r') as file:\n",
    "    dec_conf = json.load(file)"
   ]
  },
  {
   "cell_type": "code",
   "execution_count": 4,
   "id": "a2c81445",
   "metadata": {
    "scrolled": true
   },
   "outputs": [],
   "source": [
    "filtro = [] \n",
    "for i,value in df.iterrows():\n",
    "    prov = value['ResidenzaCOD']\n",
    "    confini = dec_conf.get(str(prov),[])\n",
    "    is_confinante = value['SedeP'] in confini \n",
    "    filtro.append(is_confinante)"
   ]
  },
  {
   "cell_type": "code",
   "execution_count": 5,
   "id": "f7993b08",
   "metadata": {},
   "outputs": [],
   "source": [
    "pendolari = df[filtro]"
   ]
  },
  {
   "cell_type": "code",
   "execution_count": 6,
   "id": "47256f75",
   "metadata": {
    "scrolled": false
   },
   "outputs": [
    {
     "name": "stderr",
     "output_type": "stream",
     "text": [
      "/Users/sava/opt/anaconda3/envs/pythonforjournalists/lib/python3.7/site-packages/ipykernel_launcher.py:1: SettingWithCopyWarning: \n",
      "A value is trying to be set on a copy of a slice from a DataFrame.\n",
      "Try using .loc[row_indexer,col_indexer] = value instead\n",
      "\n",
      "See the caveats in the documentation: https://pandas.pydata.org/pandas-docs/stable/user_guide/indexing.html#returning-a-view-versus-a-copy\n",
      "  \"\"\"Entry point for launching an IPython kernel.\n"
     ]
    }
   ],
   "source": [
    "pendolari['sede_ateneo'] = pendolari['SedeP'].apply(lambda x: cod_prov[str(x)])"
   ]
  },
  {
   "cell_type": "code",
   "execution_count": 7,
   "id": "d2d58add",
   "metadata": {
    "scrolled": true
   },
   "outputs": [],
   "source": [
    "df['sede_ateneo'] = df['SedeP'].apply(lambda x: cod_prov[str(x)])"
   ]
  },
  {
   "cell_type": "code",
   "execution_count": 8,
   "id": "0851aab1",
   "metadata": {},
   "outputs": [],
   "source": [
    "fuorisede = df[df['SedeP']!=df['ResidenzaCOD']]"
   ]
  },
  {
   "cell_type": "code",
   "execution_count": 9,
   "id": "4709ead2",
   "metadata": {
    "scrolled": true
   },
   "outputs": [
    {
     "name": "stderr",
     "output_type": "stream",
     "text": [
      "/Users/sava/opt/anaconda3/envs/pythonforjournalists/lib/python3.7/site-packages/ipykernel_launcher.py:1: SettingWithCopyWarning: \n",
      "A value is trying to be set on a copy of a slice from a DataFrame.\n",
      "Try using .loc[row_indexer,col_indexer] = value instead\n",
      "\n",
      "See the caveats in the documentation: https://pandas.pydata.org/pandas-docs/stable/user_guide/indexing.html#returning-a-view-versus-a-copy\n",
      "  \"\"\"Entry point for launching an IPython kernel.\n"
     ]
    }
   ],
   "source": [
    "fuorisede['sede_ateneo']=fuorisede['SedeP'].apply(lambda x: cod_prov[str(x)])"
   ]
  },
  {
   "cell_type": "markdown",
   "id": "52744c79",
   "metadata": {},
   "source": [
    "# Uni con più pendolari"
   ]
  },
  {
   "cell_type": "code",
   "execution_count": 10,
   "id": "cacb9828",
   "metadata": {},
   "outputs": [],
   "source": [
    "unis = []\n",
    "rapps = []\n",
    "for uni in df['AteneoNOME'].unique():\n",
    "    n_p = pendolari[pendolari['AteneoNOME']==uni]['Isc'].sum() #numero pendolari\n",
    "    n_t = df[df['AteneoNOME']==uni]['Isc'].sum() #numero totali\n",
    "    r = n_p/n_t*100\n",
    "    unis.append(uni)\n",
    "    rapps.append(r)"
   ]
  },
  {
   "cell_type": "code",
   "execution_count": 11,
   "id": "1fd0ec70",
   "metadata": {},
   "outputs": [],
   "source": [
    "uni_pendolari = pd.DataFrame({'uni':unis,\n",
    "             'pendolari/totale':rapps}).sort_values(by='pendolari/totale', ascending=False)"
   ]
  },
  {
   "cell_type": "code",
   "execution_count": 107,
   "id": "e76b3858",
   "metadata": {},
   "outputs": [],
   "source": [
    "uni_pendolari.to_csv('pendolari_per_uni.csv', index=False)"
   ]
  },
  {
   "cell_type": "markdown",
   "id": "2b793c53",
   "metadata": {},
   "source": [
    "# Adesso cerchiamo province che attirano più pendolari!"
   ]
  },
  {
   "cell_type": "code",
   "execution_count": 137,
   "id": "ac573186",
   "metadata": {},
   "outputs": [],
   "source": [
    "provs = []\n",
    "rapps = []\n",
    "for prov in df['sede_ateneo'].unique():\n",
    "    n_pendolari = pendolari[pendolari['sede_ateneo']==prov]['Isc'].sum()\n",
    "    n_tot = df[df['sede_ateneo']==prov]['Isc'].sum()\n",
    "    if n_tot > 1000:\n",
    "        r = n_pendolari/n_tot*100\n",
    "        provs.append(prov)\n",
    "        rapps.append(r)"
   ]
  },
  {
   "cell_type": "code",
   "execution_count": 138,
   "id": "2e05db27",
   "metadata": {},
   "outputs": [],
   "source": [
    "pendolari_tot = pd.DataFrame({\n",
    "    'province':provs,\n",
    "    'pendolari/totale':rapps\n",
    "}).sort_values(by='pendolari/totale',ascending=False)"
   ]
  },
  {
   "cell_type": "code",
   "execution_count": 139,
   "id": "78d737d1",
   "metadata": {},
   "outputs": [],
   "source": [
    "pendolari_tot['cod'] = pendolari_tot['province'].apply(lambda x: prov_cod[x])"
   ]
  },
  {
   "cell_type": "code",
   "execution_count": 140,
   "id": "a67b7e94",
   "metadata": {},
   "outputs": [],
   "source": [
    "pendolari_tot.to_csv('province_con_più_pendolari.csv',index=False)"
   ]
  },
  {
   "cell_type": "markdown",
   "id": "795b5e3e",
   "metadata": {},
   "source": [
    "# Uni con più fuorisede (NON REAL)"
   ]
  },
  {
   "cell_type": "code",
   "execution_count": 11,
   "id": "1ad28de7",
   "metadata": {},
   "outputs": [],
   "source": [
    "unis = []\n",
    "rapps = []\n",
    "for uni in df['AteneoNOME'].unique():\n",
    "    n_f = fuorisede[fuorisede['AteneoNOME']==uni]['Isc'].sum()\n",
    "    n_t = df[df['AteneoNOME']==uni]['Isc'].sum() #numero totali\n",
    "    \n",
    "    if n_f <0:\n",
    "        raise Exception('Qualcosa non va')\n",
    "    r = n_f/n_t*100\n",
    "    unis.append(uni)\n",
    "    rapps.append(r)"
   ]
  },
  {
   "cell_type": "code",
   "execution_count": 12,
   "id": "c266e8a8",
   "metadata": {},
   "outputs": [],
   "source": [
    "uni_fuorisede = pd.DataFrame({\n",
    "    'Unis':unis,\n",
    "    'real_fuorisede/totale':rapps,\n",
    "}).sort_values(by='real_fuorisede/totale',ascending=False)"
   ]
  },
  {
   "cell_type": "code",
   "execution_count": 14,
   "id": "3b286065",
   "metadata": {},
   "outputs": [],
   "source": [
    "uni_fuorisede.to_csv('fuorisede_per_uni.csv',index=False)"
   ]
  },
  {
   "cell_type": "markdown",
   "id": "177bb1a2",
   "metadata": {},
   "source": [
    "# ora facciamo real fuorisede: cioè fuorisede generali - pendolari\n",
    "\n",
    "# Uni con più real fuorisede"
   ]
  },
  {
   "cell_type": "code",
   "execution_count": 12,
   "id": "e3a3da3b",
   "metadata": {},
   "outputs": [],
   "source": [
    "unis = []\n",
    "rapps = []\n",
    "for uni in df['AteneoNOME'].unique():\n",
    "    n_p = pendolari[pendolari['AteneoNOME']==uni]['Isc'].sum() #numero pendolari\n",
    "    n_f = fuorisede[fuorisede['AteneoNOME']==uni]['Isc'].sum()\n",
    "    n_t = df[df['AteneoNOME']==uni]['Isc'].sum() #numero totali\n",
    "    real_fuorisede = n_f - n_p\n",
    "    \n",
    "    if real_fuorisede <0:\n",
    "        raise Exception('Qualcosa non va')\n",
    "    r = real_fuorisede/n_t*100\n",
    "    unis.append(uni)\n",
    "    rapps.append(r)"
   ]
  },
  {
   "cell_type": "code",
   "execution_count": 13,
   "id": "80108cd8",
   "metadata": {},
   "outputs": [],
   "source": [
    "uni_fuorisede = pd.DataFrame({\n",
    "    'Unis':unis,\n",
    "    'real_fuorisede/totale':rapps,\n",
    "}).sort_values(by='real_fuorisede/totale',ascending=False)"
   ]
  },
  {
   "cell_type": "code",
   "execution_count": 14,
   "id": "67e34aaf",
   "metadata": {},
   "outputs": [
    {
     "data": {
      "text/html": [
       "<div>\n",
       "<style scoped>\n",
       "    .dataframe tbody tr th:only-of-type {\n",
       "        vertical-align: middle;\n",
       "    }\n",
       "\n",
       "    .dataframe tbody tr th {\n",
       "        vertical-align: top;\n",
       "    }\n",
       "\n",
       "    .dataframe thead th {\n",
       "        text-align: right;\n",
       "    }\n",
       "</style>\n",
       "<table border=\"1\" class=\"dataframe\">\n",
       "  <thead>\n",
       "    <tr style=\"text-align: right;\">\n",
       "      <th></th>\n",
       "      <th>Unis</th>\n",
       "      <th>real_fuorisede/totale</th>\n",
       "    </tr>\n",
       "  </thead>\n",
       "  <tbody>\n",
       "    <tr>\n",
       "      <th>28</th>\n",
       "      <td>Milano Bocconi</td>\n",
       "      <td>75.168388</td>\n",
       "    </tr>\n",
       "    <tr>\n",
       "      <th>69</th>\n",
       "      <td>Roma Saint Camillus</td>\n",
       "      <td>65.252651</td>\n",
       "    </tr>\n",
       "    <tr>\n",
       "      <th>65</th>\n",
       "      <td>Milano San Raffaele</td>\n",
       "      <td>59.804766</td>\n",
       "    </tr>\n",
       "    <tr>\n",
       "      <th>26</th>\n",
       "      <td>Bologna</td>\n",
       "      <td>59.341509</td>\n",
       "    </tr>\n",
       "    <tr>\n",
       "      <th>54</th>\n",
       "      <td>Trieste</td>\n",
       "      <td>58.113183</td>\n",
       "    </tr>\n",
       "    <tr>\n",
       "      <th>...</th>\n",
       "      <td>...</td>\n",
       "      <td>...</td>\n",
       "    </tr>\n",
       "    <tr>\n",
       "      <th>14</th>\n",
       "      <td>Brescia</td>\n",
       "      <td>2.760883</td>\n",
       "    </tr>\n",
       "    <tr>\n",
       "      <th>8</th>\n",
       "      <td>Palermo</td>\n",
       "      <td>2.556252</td>\n",
       "    </tr>\n",
       "    <tr>\n",
       "      <th>7</th>\n",
       "      <td>Napoli Parthenope</td>\n",
       "      <td>2.491527</td>\n",
       "    </tr>\n",
       "    <tr>\n",
       "      <th>60</th>\n",
       "      <td>Basilicata</td>\n",
       "      <td>2.485896</td>\n",
       "    </tr>\n",
       "    <tr>\n",
       "      <th>21</th>\n",
       "      <td>Napoli Benincasa</td>\n",
       "      <td>1.789524</td>\n",
       "    </tr>\n",
       "  </tbody>\n",
       "</table>\n",
       "<p>81 rows × 2 columns</p>\n",
       "</div>"
      ],
      "text/plain": [
       "                   Unis  real_fuorisede/totale\n",
       "28       Milano Bocconi              75.168388\n",
       "69  Roma Saint Camillus              65.252651\n",
       "65  Milano San Raffaele              59.804766\n",
       "26              Bologna              59.341509\n",
       "54              Trieste              58.113183\n",
       "..                  ...                    ...\n",
       "14              Brescia               2.760883\n",
       "8               Palermo               2.556252\n",
       "7     Napoli Parthenope               2.491527\n",
       "60           Basilicata               2.485896\n",
       "21     Napoli Benincasa               1.789524\n",
       "\n",
       "[81 rows x 2 columns]"
      ]
     },
     "execution_count": 14,
     "metadata": {},
     "output_type": "execute_result"
    }
   ],
   "source": [
    "uni_fuorisede"
   ]
  },
  {
   "cell_type": "code",
   "execution_count": 201,
   "id": "2559e65f",
   "metadata": {
    "scrolled": false
   },
   "outputs": [],
   "source": [
    "uni_fuorisede.to_csv('real_fuorisede_per_uni.csv',index=False)"
   ]
  },
  {
   "cell_type": "markdown",
   "id": "93181f96",
   "metadata": {},
   "source": [
    "# Province con più real fuorisede"
   ]
  },
  {
   "cell_type": "code",
   "execution_count": 123,
   "id": "0d716730",
   "metadata": {
    "scrolled": true
   },
   "outputs": [
    {
     "name": "stderr",
     "output_type": "stream",
     "text": [
      "/Users/sava/opt/anaconda3/envs/maps/lib/python3.7/site-packages/ipykernel_launcher.py:14: RuntimeWarning: invalid value encountered in long_scalars\n",
      "  \n"
     ]
    }
   ],
   "source": [
    "provs = []\n",
    "rapps = []\n",
    "for prov in df['ResidenzaR'].unique(): #mettiamo come elenco unique sempre province di residenza \n",
    "                                        #perché più completo\n",
    "    n_pendolari = pendolari[pendolari['sede_ateneo']==prov]['Isc'].sum()\n",
    "    n_fuorisede = fuorisede[fuorisede['sede_ateneo']==prov]['Isc'].sum()\n",
    "    real_fuorisede = n_fuorisede-n_pendolari\n",
    "    \n",
    "    if real_fuorisede < 0:\n",
    "        raise Exception('Qualcosa non va')\n",
    "        \n",
    "    n_tot = df[df['sede_ateneo']==prov]['Isc'].sum()\n",
    "    #if n_tot > 1000:\n",
    "    r = real_fuorisede/n_tot*100\n",
    "    provs.append(prov)\n",
    "    rapps.append(r)"
   ]
  },
  {
   "cell_type": "code",
   "execution_count": 124,
   "id": "5f2f2d69",
   "metadata": {},
   "outputs": [],
   "source": [
    "arrivi = pd.DataFrame({\n",
    "    'province':provs,\n",
    "    'real_fuorisede/totale':rapps\n",
    "}).sort_values(by='real_fuorisede/totale',ascending=False).fillna(0)\n",
    "\n",
    "arrivi['cod'] = arrivi['province'].apply(lambda x: prov_cod[x])\n",
    "arrivi.to_csv('province_accolgono_real_fuorisede.csv',index=False)"
   ]
  },
  {
   "cell_type": "markdown",
   "id": "2fbd1b7e",
   "metadata": {},
   "source": [
    "<h1> Ora real fuorisede ma partenze! </h1>"
   ]
  },
  {
   "cell_type": "code",
   "execution_count": 129,
   "id": "97e4e2de",
   "metadata": {},
   "outputs": [],
   "source": [
    "provs = []\n",
    "rapps = []\n",
    "for prov in df['ResidenzaR'].unique():\n",
    "    n_pendolari = pendolari[pendolari['ResidenzaR']==prov]['Isc'].sum()\n",
    "    n_fuorisede = fuorisede[fuorisede['ResidenzaR']==prov]['Isc'].sum()\n",
    "    real_fuorisede = n_fuorisede-n_pendolari\n",
    "    \n",
    "    if real_fuorisede < 0:\n",
    "        raise Exception('Qualcosa non va')\n",
    "    n_tot = df[df['ResidenzaR']==prov]['Isc'].sum()\n",
    "    #if n_tot > 5000:\n",
    "    r = real_fuorisede/n_tot*100\n",
    "    provs.append(prov)\n",
    "    rapps.append(r)"
   ]
  },
  {
   "cell_type": "code",
   "execution_count": 130,
   "id": "0d6a1495",
   "metadata": {},
   "outputs": [],
   "source": [
    "partenze = pd.DataFrame({\n",
    "    'province':provs,\n",
    "    'real_fuorisede/totale':rapps\n",
    "}).sort_values(by='real_fuorisede/totale',ascending=False)\n",
    "\n",
    "partenze['cod'] = partenze['province'].apply(lambda x: prov_cod[str(x)])\n",
    "\n",
    "partenze.to_csv('province_partono_real_fuorisede.csv',index=False)"
   ]
  },
  {
   "cell_type": "code",
   "execution_count": null,
   "id": "cdb0c3d8",
   "metadata": {},
   "outputs": [],
   "source": []
  }
 ],
 "metadata": {
  "kernelspec": {
   "display_name": "Python 3",
   "language": "python",
   "name": "python3"
  },
  "language_info": {
   "codemirror_mode": {
    "name": "ipython",
    "version": 3
   },
   "file_extension": ".py",
   "mimetype": "text/x-python",
   "name": "python",
   "nbconvert_exporter": "python",
   "pygments_lexer": "ipython3",
   "version": "3.7.13"
  }
 },
 "nbformat": 4,
 "nbformat_minor": 5
}
