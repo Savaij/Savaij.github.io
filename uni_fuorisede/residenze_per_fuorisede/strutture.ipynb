{
 "cells": [
  {
   "cell_type": "code",
   "execution_count": 1,
   "id": "5395bb5d",
   "metadata": {},
   "outputs": [],
   "source": [
    "import pandas as pd\n",
    "import json\n",
    "import numpy as np"
   ]
  },
  {
   "cell_type": "markdown",
   "id": "7e33722a",
   "metadata": {},
   "source": [
    "# Prepariamo lavoro per calcolo evoluzione fuorisede"
   ]
  },
  {
   "cell_type": "code",
   "execution_count": 67,
   "id": "32042f78",
   "metadata": {},
   "outputs": [],
   "source": [
    "df = pd.read_csv('http://dati.ustat.miur.it/dataset/3dd9ca7f-9cc9-4a1a-915c-e569b181dbd5/resource/b270ef1a-c219-48b1-8399-b1458e225d39/download/14_iscrittixresidenzasedecorsogruppo.csv', delimiter=';')\n",
    "\n",
    "decoder = pd.read_csv('http://dati.ustat.miur.it/dataset/3dd9ca7f-9cc9-4a1a-915c-e569b181dbd5/resource/eae4ee94-0797-41d2-b007-bc6dad3ef3e2/download/07_iscrittixresidenza.csv', delimiter=';')\n",
    "\n",
    "with open('decoders.json','r') as file:\n",
    "    decoders = json.load(file)\n",
    "\n",
    "cod_prov = decoders[0]\n",
    "prov_cod = decoders[1]\n",
    "\n",
    "df['ResidenzaCOD'] = df['ResidenzaR'].apply(lambda x: prov_cod[x])\n",
    "df['sede_ateneo']=df['SedeP'].apply(lambda x: cod_prov.get(str(x),'Sconosciuta'))"
   ]
  },
  {
   "cell_type": "code",
   "execution_count": 68,
   "id": "95ec3801",
   "metadata": {},
   "outputs": [],
   "source": [
    "with open('cod_confini.json','r') as file:\n",
    "    dec_conf = json.load(file)"
   ]
  },
  {
   "cell_type": "code",
   "execution_count": 69,
   "id": "d160ca04",
   "metadata": {},
   "outputs": [],
   "source": [
    "df['AnnoA'] = df['AnnoA'].str.extract('^(\\d+)/')[0].astype(int)"
   ]
  },
  {
   "cell_type": "code",
   "execution_count": 70,
   "id": "d2b1ccb8",
   "metadata": {},
   "outputs": [],
   "source": [
    "filtro = [] \n",
    "for i,value in df.iterrows():\n",
    "    prov = value['ResidenzaCOD']\n",
    "    confini = dec_conf.get(str(prov),[])\n",
    "    is_confinante = value['SedeP'] in confini \n",
    "    filtro.append(is_confinante)"
   ]
  },
  {
   "cell_type": "code",
   "execution_count": 71,
   "id": "9ccd585e",
   "metadata": {},
   "outputs": [],
   "source": [
    "fuorisede = df[df['SedeP']!=df['ResidenzaCOD']]"
   ]
  },
  {
   "cell_type": "code",
   "execution_count": 72,
   "id": "5de7aa65",
   "metadata": {},
   "outputs": [],
   "source": [
    "fuorisede_real = df[list(map(lambda x: not x, filtro))]"
   ]
  },
  {
   "cell_type": "code",
   "execution_count": 74,
   "id": "03238609",
   "metadata": {},
   "outputs": [],
   "source": [
    "fuorisede_real = fuorisede_real[fuorisede_real['SedeP']!=fuorisede_real['ResidenzaCOD']]"
   ]
  },
  {
   "cell_type": "code",
   "execution_count": 9,
   "id": "3393291f",
   "metadata": {},
   "outputs": [],
   "source": [
    "def proporzioni(prov):\n",
    "\n",
    "    f = fuorisede_real.groupby(by=['sede_ateneo','AnnoA']).agg({\n",
    "    'Isc':sum\n",
    "    })\n",
    "    \n",
    "    t = df.groupby(by=['sede_ateneo','AnnoA']).agg({\n",
    "    'Isc':sum\n",
    "    })\n",
    "    \n",
    "    return f.loc[prov]['Isc'] #torna il numero di studenti real fuorisede per anno in una provincia\n",
    "#/t.loc[prov]['Isc']*100"
   ]
  },
  {
   "cell_type": "code",
   "execution_count": 11,
   "id": "516b0650",
   "metadata": {
    "scrolled": true
   },
   "outputs": [
    {
     "data": {
      "text/plain": [
       "AnnoA\n",
       "2010    30649\n",
       "2011    30676\n",
       "2012    30722\n",
       "2013    31160\n",
       "2014    32180\n",
       "2015    33088\n",
       "2016    34235\n",
       "2017    34981\n",
       "2018    35714\n",
       "2019    35639\n",
       "2020    36885\n",
       "2021    39479\n",
       "Name: Isc, dtype: int64"
      ]
     },
     "execution_count": 11,
     "metadata": {},
     "output_type": "execute_result"
    }
   ],
   "source": [
    "proporzioni('BOLOGNA')"
   ]
  },
  {
   "cell_type": "markdown",
   "id": "e42c3906",
   "metadata": {},
   "source": [
    "# Lavori preparatori per importare dataset DISU"
   ]
  },
  {
   "cell_type": "code",
   "execution_count": 25,
   "id": "587fe01b",
   "metadata": {},
   "outputs": [],
   "source": [
    "links = [f'http://dati.ustat.miur.it/dataset/{x}-diritto-allo-studio-universitario-dsu-regionale'\\\n",
    "        for x in range(2014,2022)]"
   ]
  },
  {
   "cell_type": "code",
   "execution_count": 26,
   "id": "7d031219",
   "metadata": {},
   "outputs": [],
   "source": [
    "def leggi_df(url):\n",
    "    r = requests.get(url)\n",
    "    soup = BeautifulSoup(r.content,'html.parser')\n",
    "    finale = soup.find(text=re.compile(r'Alloggi e mense',flags=re.I))\n",
    "    finale = finale.parent['href']\n",
    "    r = requests.get('http://dati.ustat.miur.it'+finale)\n",
    "    soup = BeautifulSoup(r.content,'html.parser')\n",
    "    n_url = list(filter(lambda x: 'csv' in x['href'],soup.find_all('a')))[0]['href']\n",
    "    return pd.read_csv(n_url,delimiter=';',encoding='ISO-8859-1')"
   ]
  },
  {
   "cell_type": "code",
   "execution_count": 27,
   "id": "873d7546",
   "metadata": {},
   "outputs": [],
   "source": [
    "lista = []\n",
    "for url in links:\n",
    "    ndf = leggi_df(url) \n",
    "    lista.append(ndf)"
   ]
  },
  {
   "cell_type": "code",
   "execution_count": 28,
   "id": "13c3d1e6",
   "metadata": {},
   "outputs": [],
   "source": [
    "disu = pd.concat(lista,ignore_index=True)"
   ]
  },
  {
   "cell_type": "code",
   "execution_count": 29,
   "id": "08f14322",
   "metadata": {},
   "outputs": [],
   "source": [
    "disu = disu.dropna(how='all')"
   ]
  },
  {
   "cell_type": "code",
   "execution_count": 30,
   "id": "e16d3684",
   "metadata": {
    "scrolled": true
   },
   "outputs": [
    {
     "data": {
      "text/plain": [
       "array(['01/11/2014', '01/11/2015', '01/11/2016', '1/11/17', '01/11/2018',\n",
       "       '01/11/2019', '01/11/2020', '01-nov-20', '01/11/2021'],\n",
       "      dtype=object)"
      ]
     },
     "execution_count": 30,
     "metadata": {},
     "output_type": "execute_result"
    }
   ],
   "source": [
    "disu['DATA'].unique()"
   ]
  },
  {
   "cell_type": "code",
   "execution_count": 31,
   "id": "a88f7071",
   "metadata": {},
   "outputs": [],
   "source": [
    "def utility(x):\n",
    "    if len(x)==4:\n",
    "        return int(x)\n",
    "    elif len(x)==2:\n",
    "        return int('20'+x)"
   ]
  },
  {
   "cell_type": "code",
   "execution_count": 32,
   "id": "5fb36bf0",
   "metadata": {},
   "outputs": [],
   "source": [
    "disu['DATA']=disu['DATA'].str.extract(r'/(\\d+$)')[0].fillna('20').apply(utility)"
   ]
  },
  {
   "cell_type": "code",
   "execution_count": 33,
   "id": "7ffb6654",
   "metadata": {},
   "outputs": [],
   "source": [
    "disu = disu[disu['CODICE_SERVIZIO']=='1']"
   ]
  },
  {
   "cell_type": "code",
   "execution_count": 34,
   "id": "20948f7e",
   "metadata": {},
   "outputs": [],
   "source": [
    "disu_f = disu.groupby(by=['NOME_REGIONE','DATA']).agg({\n",
    "    'NUMERO':sum\n",
    "})"
   ]
  },
  {
   "cell_type": "code",
   "execution_count": 80,
   "id": "b754238e",
   "metadata": {},
   "outputs": [],
   "source": [
    "prov_reg = dict(zip(df['ResidenzaR'],df['ResidenzaP']))"
   ]
  },
  {
   "cell_type": "code",
   "execution_count": 81,
   "id": "56c74548",
   "metadata": {},
   "outputs": [],
   "source": [
    "df['regione_ateno'] = df['sede_ateneo'].apply(lambda x: prov_reg.get(x, np.nan))"
   ]
  },
  {
   "cell_type": "code",
   "execution_count": 82,
   "id": "22d8f2b6",
   "metadata": {},
   "outputs": [],
   "source": [
    "fuorisede_real['regione_ateno'] = fuorisede_real['sede_ateneo'].apply(lambda x: prov_reg.get(x, np.nan))"
   ]
  },
  {
   "cell_type": "markdown",
   "id": "f2c9a6a0",
   "metadata": {},
   "source": [
    "# EMILIA ROMAGNA"
   ]
  },
  {
   "cell_type": "code",
   "execution_count": 38,
   "id": "e2a6f316",
   "metadata": {},
   "outputs": [],
   "source": [
    "n_posti = disu_f.loc['Emilia-Romagna']['NUMERO']\n",
    "\n",
    "n_fuorisede = fuorisede_real.groupby(by=['regione_ateno','AnnoA']).agg({\n",
    "    'Isc':sum\n",
    "}).loc['EMILIA ROMAGNA']['Isc']"
   ]
  },
  {
   "cell_type": "code",
   "execution_count": 39,
   "id": "eedfc380",
   "metadata": {},
   "outputs": [
    {
     "data": {
      "text/plain": [
       "101.74136454467599"
      ]
     },
     "execution_count": 39,
     "metadata": {},
     "output_type": "execute_result"
    }
   ],
   "source": [
    "n_posti[2021]/n_posti[2014]*100"
   ]
  },
  {
   "cell_type": "code",
   "execution_count": 40,
   "id": "fed786d4",
   "metadata": {},
   "outputs": [
    {
     "data": {
      "text/plain": [
       "146.82137075013492"
      ]
     },
     "execution_count": 40,
     "metadata": {},
     "output_type": "execute_result"
    }
   ],
   "source": [
    "n_fuorisede[2021]/n_fuorisede[2014]*100"
   ]
  },
  {
   "cell_type": "code",
   "execution_count": 41,
   "id": "db0c140f",
   "metadata": {
    "scrolled": true
   },
   "outputs": [
    {
     "data": {
      "text/plain": [
       "2010         NaN\n",
       "2011         NaN\n",
       "2012         NaN\n",
       "2013         NaN\n",
       "2014    6.301493\n",
       "2015    6.081222\n",
       "2016    5.792406\n",
       "2017    5.339266\n",
       "2018    5.076032\n",
       "2019    4.865432\n",
       "2020    4.585192\n",
       "2021    4.366684\n",
       "dtype: float64"
      ]
     },
     "execution_count": 41,
     "metadata": {},
     "output_type": "execute_result"
    }
   ],
   "source": [
    "n_posti/n_fuorisede*100"
   ]
  },
  {
   "cell_type": "markdown",
   "id": "7bc0b4ed",
   "metadata": {},
   "source": [
    "# LOMBARDIA"
   ]
  },
  {
   "cell_type": "code",
   "execution_count": 42,
   "id": "a169b9af",
   "metadata": {},
   "outputs": [],
   "source": [
    "n_posti = disu_f.loc['Lombardia']['NUMERO']\n",
    "\n",
    "n_fuorisede = fuorisede_real.groupby(by=['regione_ateno','AnnoA']).agg({\n",
    "    'Isc':sum\n",
    "}).loc['LOMBARDIA']['Isc']"
   ]
  },
  {
   "cell_type": "code",
   "execution_count": 43,
   "id": "c9064d86",
   "metadata": {
    "scrolled": false
   },
   "outputs": [
    {
     "data": {
      "text/plain": [
       "2010          NaN\n",
       "2011          NaN\n",
       "2012          NaN\n",
       "2013          NaN\n",
       "2014    11.629452\n",
       "2015    12.492436\n",
       "2016    12.448435\n",
       "2017    11.851852\n",
       "2018    11.934698\n",
       "2019    11.362805\n",
       "2020    10.670375\n",
       "2021    10.178806\n",
       "dtype: float64"
      ]
     },
     "execution_count": 43,
     "metadata": {},
     "output_type": "execute_result"
    }
   ],
   "source": [
    "n_posti/n_fuorisede*100"
   ]
  },
  {
   "cell_type": "code",
   "execution_count": 44,
   "id": "da495137",
   "metadata": {},
   "outputs": [
    {
     "data": {
      "text/plain": [
       "115.23845007451565"
      ]
     },
     "execution_count": 44,
     "metadata": {},
     "output_type": "execute_result"
    }
   ],
   "source": [
    "n_posti[2021]/n_posti[2014]*100"
   ]
  },
  {
   "cell_type": "code",
   "execution_count": 45,
   "id": "e3629de8",
   "metadata": {},
   "outputs": [
    {
     "data": {
      "text/plain": [
       "131.66180421156014"
      ]
     },
     "execution_count": 45,
     "metadata": {},
     "output_type": "execute_result"
    }
   ],
   "source": [
    "n_fuorisede[2021]/n_fuorisede[2014]*100"
   ]
  },
  {
   "cell_type": "markdown",
   "id": "ce136d5d",
   "metadata": {},
   "source": [
    "# PIEMONTE"
   ]
  },
  {
   "cell_type": "code",
   "execution_count": 46,
   "id": "40875740",
   "metadata": {},
   "outputs": [],
   "source": [
    "n_posti = disu_f.loc['Piemonte']['NUMERO']\n",
    "\n",
    "n_fuorisede = fuorisede_real.groupby(by=['regione_ateno','AnnoA']).agg({\n",
    "    'Isc':sum\n",
    "}).loc['PIEMONTE']['Isc']"
   ]
  },
  {
   "cell_type": "code",
   "execution_count": 47,
   "id": "11ce2363",
   "metadata": {
    "scrolled": true
   },
   "outputs": [
    {
     "data": {
      "text/plain": [
       "2010         NaN\n",
       "2011         NaN\n",
       "2012         NaN\n",
       "2013         NaN\n",
       "2014    9.750585\n",
       "2015    8.849079\n",
       "2016    8.078380\n",
       "2017    7.492056\n",
       "2018    6.999565\n",
       "2019    6.767167\n",
       "2020    6.678518\n",
       "2021    6.419445\n",
       "dtype: float64"
      ]
     },
     "execution_count": 47,
     "metadata": {},
     "output_type": "execute_result"
    }
   ],
   "source": [
    "n_posti/n_fuorisede*100"
   ]
  },
  {
   "cell_type": "code",
   "execution_count": 48,
   "id": "aecab619",
   "metadata": {},
   "outputs": [
    {
     "data": {
      "text/plain": [
       "100.52867019113461"
      ]
     },
     "execution_count": 48,
     "metadata": {},
     "output_type": "execute_result"
    }
   ],
   "source": [
    "n_posti[2021]/n_posti[2014]*100"
   ]
  },
  {
   "cell_type": "code",
   "execution_count": 49,
   "id": "2eb849b0",
   "metadata": {},
   "outputs": [
    {
     "data": {
      "text/plain": [
       "152.69439708156548"
      ]
     },
     "execution_count": 49,
     "metadata": {},
     "output_type": "execute_result"
    }
   ],
   "source": [
    "n_fuorisede[2021]/n_fuorisede[2014]*100"
   ]
  },
  {
   "cell_type": "markdown",
   "id": "5a16cb04",
   "metadata": {},
   "source": [
    "# LAZIO"
   ]
  },
  {
   "cell_type": "code",
   "execution_count": 50,
   "id": "ddb403f0",
   "metadata": {},
   "outputs": [],
   "source": [
    "n_posti = disu_f.loc['Lazio']['NUMERO']\n",
    "\n",
    "n_fuorisede = fuorisede_real.groupby(by=['regione_ateno','AnnoA']).agg({\n",
    "    'Isc':sum\n",
    "}).loc['LAZIO']['Isc']"
   ]
  },
  {
   "cell_type": "code",
   "execution_count": 51,
   "id": "9bd7c8b1",
   "metadata": {
    "scrolled": true
   },
   "outputs": [
    {
     "data": {
      "text/plain": [
       "2010         NaN\n",
       "2011         NaN\n",
       "2012         NaN\n",
       "2013         NaN\n",
       "2014    6.209190\n",
       "2015    6.538715\n",
       "2016    6.659076\n",
       "2017    6.940995\n",
       "2018    7.154213\n",
       "2019    7.241262\n",
       "2020    6.586594\n",
       "2021    5.756468\n",
       "dtype: float64"
      ]
     },
     "execution_count": 51,
     "metadata": {},
     "output_type": "execute_result"
    }
   ],
   "source": [
    "n_posti/n_fuorisede*100"
   ]
  },
  {
   "cell_type": "code",
   "execution_count": 52,
   "id": "acd8ff82",
   "metadata": {},
   "outputs": [
    {
     "data": {
      "text/plain": [
       "100.43324143363527"
      ]
     },
     "execution_count": 52,
     "metadata": {},
     "output_type": "execute_result"
    }
   ],
   "source": [
    "n_posti[2021]/n_posti[2014]*100"
   ]
  },
  {
   "cell_type": "code",
   "execution_count": 53,
   "id": "d0d1044c",
   "metadata": {},
   "outputs": [
    {
     "data": {
      "text/plain": [
       "108.33190677655229"
      ]
     },
     "execution_count": 53,
     "metadata": {},
     "output_type": "execute_result"
    }
   ],
   "source": [
    "n_fuorisede[2021]/n_fuorisede[2014]*100"
   ]
  },
  {
   "cell_type": "markdown",
   "id": "51460b62",
   "metadata": {},
   "source": [
    "# ITALIA"
   ]
  },
  {
   "cell_type": "code",
   "execution_count": 54,
   "id": "af7ce0f6",
   "metadata": {},
   "outputs": [],
   "source": [
    "n_posti = disu.groupby('DATA').agg({\n",
    "    'NUMERO':sum\n",
    "})['NUMERO']"
   ]
  },
  {
   "cell_type": "code",
   "execution_count": 55,
   "id": "7463e91b",
   "metadata": {},
   "outputs": [],
   "source": [
    "n_fuorisede = fuorisede_real.groupby('AnnoA').agg({\n",
    "    'Isc':sum\n",
    "})['Isc']"
   ]
  },
  {
   "cell_type": "code",
   "execution_count": 56,
   "id": "8bbe1036",
   "metadata": {
    "scrolled": false
   },
   "outputs": [
    {
     "data": {
      "text/plain": [
       "2010          NaN\n",
       "2011          NaN\n",
       "2012          NaN\n",
       "2013          NaN\n",
       "2014    11.727409\n",
       "2015    12.231285\n",
       "2016    11.833815\n",
       "2017    11.352843\n",
       "2018    11.449624\n",
       "2019    11.205516\n",
       "2020    10.599871\n",
       "2021     9.865654\n",
       "dtype: float64"
      ]
     },
     "execution_count": 56,
     "metadata": {},
     "output_type": "execute_result"
    }
   ],
   "source": [
    "n_posti/n_fuorisede*100"
   ]
  },
  {
   "cell_type": "markdown",
   "id": "5ef0c87d",
   "metadata": {},
   "source": [
    "# Creiamo csv con dati per ogni regione"
   ]
  },
  {
   "cell_type": "code",
   "execution_count": 90,
   "id": "6f9daa04",
   "metadata": {},
   "outputs": [],
   "source": [
    "disu_fuoris = {}\n",
    "for i in set(list(map(lambda x: x[0],disu_f.index))):\n",
    "    disu_fuoris[i] = i.upper()"
   ]
  },
  {
   "cell_type": "code",
   "execution_count": 89,
   "id": "44925085",
   "metadata": {
    "scrolled": true
   },
   "outputs": [
    {
     "data": {
      "text/plain": [
       "array(['LOMBARDIA', 'PIEMONTE', 'SICILIA', 'ABRUZZO', 'TOSCANA',\n",
       "       'EMILIA ROMAGNA', 'CALABRIA', 'PUGLIA', 'VENETO', 'LAZIO',\n",
       "       'SARDEGNA', 'FRIULI VENEZIA GIULIA', 'MARCHE', 'CAMPANIA',\n",
       "       'LIGURIA', nan, 'BASILICATA', 'UMBRIA',\n",
       "       'Provincia autonoma di Bolzano', 'Provincia autonoma di TRENTO',\n",
       "       'MOLISE', \"VALLE D'AOSTA\"], dtype=object)"
      ]
     },
     "execution_count": 89,
     "metadata": {},
     "output_type": "execute_result"
    }
   ],
   "source": [
    "fuorisede_real['regione_ateno'].unique()"
   ]
  },
  {
   "cell_type": "code",
   "execution_count": 92,
   "id": "27b33ff2",
   "metadata": {},
   "outputs": [],
   "source": [
    "disu_fuoris['Friuli-Venezia Giulia'] = 'FRIULI VENEZIA GIULIA'"
   ]
  },
  {
   "cell_type": "code",
   "execution_count": 94,
   "id": "50b17400",
   "metadata": {},
   "outputs": [],
   "source": [
    "del disu_fuoris['Trentino-Alto Adige']"
   ]
  },
  {
   "cell_type": "code",
   "execution_count": 96,
   "id": "48aa57ba",
   "metadata": {},
   "outputs": [],
   "source": [
    "disu_fuoris['Emilia-Romagna'] = 'EMILIA ROMAGNA'"
   ]
  },
  {
   "cell_type": "code",
   "execution_count": 100,
   "id": "d95e5f6e",
   "metadata": {},
   "outputs": [
    {
     "data": {
      "text/plain": [
       "{'Calabria': 'CALABRIA',\n",
       " 'Sicilia': 'SICILIA',\n",
       " 'Veneto': 'VENETO',\n",
       " 'Friuli-Venezia Giulia': 'FRIULI VENEZIA GIULIA',\n",
       " 'Molise': 'MOLISE',\n",
       " 'Abruzzo': 'ABRUZZO',\n",
       " 'Piemonte': 'PIEMONTE',\n",
       " 'Lombardia': 'LOMBARDIA',\n",
       " 'Lazio': 'LAZIO',\n",
       " 'Campania': 'CAMPANIA',\n",
       " 'Basilicata': 'BASILICATA',\n",
       " 'Liguria': 'LIGURIA',\n",
       " 'Umbria': 'UMBRIA',\n",
       " \"Valle d'Aosta\": \"VALLE D'AOSTA\",\n",
       " 'Toscana': 'TOSCANA',\n",
       " 'Marche': 'MARCHE',\n",
       " 'Emilia-Romagna': 'EMILIA ROMAGNA',\n",
       " 'Puglia': 'PUGLIA',\n",
       " 'Sardegna': 'SARDEGNA'}"
      ]
     },
     "execution_count": 100,
     "metadata": {},
     "output_type": "execute_result"
    }
   ],
   "source": [
    "disu_fuoris"
   ]
  },
  {
   "cell_type": "code",
   "execution_count": 99,
   "id": "caeaf79f",
   "metadata": {},
   "outputs": [],
   "source": [
    "disu_regioni = pd.DataFrame()"
   ]
  },
  {
   "cell_type": "code",
   "execution_count": 114,
   "id": "184695db",
   "metadata": {},
   "outputs": [],
   "source": [
    "for regione in disu_fuoris:\n",
    "    n_posti = disu_f.loc[regione]['NUMERO']\n",
    "    n_fuorisede = fuorisede_real.groupby(by=['regione_ateno','AnnoA']).agg({\n",
    "    'Isc':sum\n",
    "    }).loc[disu_fuoris[regione]]['Isc']\n",
    "    serie = n_posti.combine(n_fuorisede,lambda x, y: {'posti':x,\n",
    "                                         'fuorisede':y,\n",
    "                                         'rapporto':x/y*100})\n",
    "    disu_regioni[regione]=serie"
   ]
  },
  {
   "cell_type": "code",
   "execution_count": 131,
   "id": "d5213c63",
   "metadata": {},
   "outputs": [],
   "source": [
    "disu_regioni.to_csv('residenze_per_fuorisede.csv')"
   ]
  },
  {
   "cell_type": "code",
   "execution_count": null,
   "id": "25237ad8",
   "metadata": {},
   "outputs": [],
   "source": []
  }
 ],
 "metadata": {
  "kernelspec": {
   "display_name": "Python 3",
   "language": "python",
   "name": "python3"
  },
  "language_info": {
   "codemirror_mode": {
    "name": "ipython",
    "version": 3
   },
   "file_extension": ".py",
   "mimetype": "text/x-python",
   "name": "python",
   "nbconvert_exporter": "python",
   "pygments_lexer": "ipython3",
   "version": "3.7.13"
  }
 },
 "nbformat": 4,
 "nbformat_minor": 5
}
